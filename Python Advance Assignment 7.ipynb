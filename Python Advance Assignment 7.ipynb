{
 "cells": [
  {
   "cell_type": "code",
   "execution_count": null,
   "id": "2285e7b3-2739-45b9-b635-ef9fe90e7755",
   "metadata": {},
   "outputs": [],
   "source": [
    "#1. What is the purpose of the try statement?\n",
    "\n",
    "Ans. try statement is used for exception handling in python. \n",
    "it consists of a block of risky statements which might cause an exception during runtime.\n"
   ]
  },
  {
   "cell_type": "code",
   "execution_count": null,
   "id": "00fc789a-1d38-4b6e-b913-c455211ea794",
   "metadata": {},
   "outputs": [],
   "source": [
    "#2. What are the two most popular try statement variations?\n",
    "\n",
    "Ans. The two most popular try statement variations are\n",
    "\n",
    "try,except\n",
    "try,except,finally\n",
    "try,except,finally,else"
   ]
  },
  {
   "cell_type": "code",
   "execution_count": null,
   "id": "6fe309ff-0e74-430f-8d5e-db2dd42c3ddf",
   "metadata": {},
   "outputs": [],
   "source": [
    "#3.  What is the purpose of the raise statement?\n",
    "\n",
    "Ans. raise statement is used to trigger an exception explicitly, if a certain condition is not as per requirement of programmer. \n",
    "raise statement helps in triggering exception as per programming logic."
   ]
  },
  {
   "cell_type": "code",
   "execution_count": null,
   "id": "b98f9e01-0cbd-4582-870a-12df280a3152",
   "metadata": {},
   "outputs": [],
   "source": [
    "#4. What does the assert statement do, and what other statement is it like?\n",
    "\n",
    "Ans. There are few assertions that programmer always want to be true to avoid code failure. \n",
    "This type of requirement is fulfilled by assert statement"
   ]
  },
  {
   "cell_type": "code",
   "execution_count": null,
   "id": "7d538976-4b27-468d-8b2d-4c1b63a420df",
   "metadata": {},
   "outputs": [],
   "source": [
    "#5. What is the purpose of the with/as argument, and what other statement is it like?\n",
    "\n",
    "Ans. ith/as statement simplifies use of file handling in python. When we use a with statement for file reading, there is no need for programmer to explicitly takecare of activities like resource deallocation and file closing by using file.close() method. with statement itself ensures proper acquisition and release of resources. \n",
    "This avoids triggering of exceptions if file closing is unknowingly forgotten in the code execution."
   ]
  }
 ],
 "metadata": {
  "kernelspec": {
   "display_name": "Python 3 (ipykernel)",
   "language": "python",
   "name": "python3"
  },
  "language_info": {
   "codemirror_mode": {
    "name": "ipython",
    "version": 3
   },
   "file_extension": ".py",
   "mimetype": "text/x-python",
   "name": "python",
   "nbconvert_exporter": "python",
   "pygments_lexer": "ipython3",
   "version": "3.10.6"
  }
 },
 "nbformat": 4,
 "nbformat_minor": 5
}
